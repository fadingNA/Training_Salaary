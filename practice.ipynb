{
 "cells": [
  {
   "cell_type": "code",
   "execution_count": 1,
   "metadata": {},
   "outputs": [],
   "source": [
    "import pandas as pd\n",
    "import numpy as np\n",
    "import matplotlib.pyplot as plt"
   ]
  },
  {
   "cell_type": "code",
   "execution_count": 9,
   "metadata": {},
   "outputs": [],
   "source": [
    "np.random.seed(42)\n",
    "n_samples = 1000\n",
    "years_of_experiences = np.random.randint(\n",
    "    1, 21, n_samples)  # 1~20 range years is 1 - 20 years\n",
    "\n",
    "degrees = [\"Diploma\", \"Bachelors\", \"Masters\", \"PhD\"]\n",
    "\n",
    "degree_type = np.random.choice(degrees, n_samples, p=[0.4, 0.3, 0.2, 0.1])\n",
    "# wat is p? probability? what is 0.5, 0.3, 0.2, 0.1?\n",
    "# 0.5 is 50% chance of getting Diploma,\n",
    "# 0.3 is 30% chance of getting Bachelors,\n",
    "# 0.2 is 20% chance of getting Masters,\n",
    "# 0.1 is 10% chance of getting PhD\n",
    "\n",
    "cities = [\"New York\", \"Los Angeles\", \"San Francisco\", \"Chicago\",\n",
    "          \"Houston\", \"Phoenix\", \"Boston\", \"Denver\", \"Dallas\", \"Washington DC\"]\n",
    "city = np.random.choice(cities, n_samples, p=[\n",
    "                        0.1,0.1,0.1,0.1,0.1,0.1,0.1,0.1,0.1,0.1]) # probability of getting each city not sum to 0.1\n",
    "# wat is p? probability? what is 0.2, 0.1, 0.1, 0.1, 0.1, 0.1, 0.1?\n",
    "# 0.2 is 20% chance of getting New York,\n",
    "# 0.1 is 10% chance of getting Los Angeles,\n",
    "# 0.1 is 10% chance of getting San Francisco,\n",
    "# 0.1 is 10% chance of getting Chicago,\n",
    "# 0.1 is 10% chance of getting Houston,\n",
    "# 0.1 is 10% chance of getting Phoenix,\n",
    "# 0.1 is 10% chance of getting Boston,\n",
    "# 0.1 is 10% chance of getting Denver,\n",
    "# 0.1 is 10% chance of getting Dallas,\n",
    "# 0.1 is 10% chance of getting Washington DC\n",
    "\n",
    "base_salary = 40000\n",
    "salary = (base_salary + years_of_experiences * 10\n",
    "          + np.where(degree_type == \"Masters\", 5000, 0)\n",
    "          + np.where(degree_type == \"PhD\", 10000, 0)\n",
    "          + np.where(city == \"New York\", 10000, 0)\n",
    "          + np.where(city == \"San Francisco\", 15000, 0)\n",
    "          + np.where(city == \"Boston\", 5000, 0)\n",
    "          + np.random.randint(-5000, 5000, n_samples)).round(-3)\n",
    "\n",
    "df = pd.DataFrame({\n",
    "    \"Year of Experience\" : years_of_experiences,\n",
    "    \"Degree Type\" : degree_type,\n",
    "    \"City\" : city,\n",
    "    \"Salary\" : salary\n",
    "})"
   ]
  },
  {
   "cell_type": "code",
   "execution_count": 11,
   "metadata": {},
   "outputs": [
    {
     "name": "stdout",
     "output_type": "stream",
     "text": [
      "   Year of Experience Degree Type         City  Salary\n",
      "0                   7   Bachelors       Dallas   44000\n",
      "1                  20   Bachelors      Chicago   41000\n",
      "2                  15         PhD  Los Angeles   50000\n",
      "3                  11   Bachelors      Houston   43000\n",
      "4                   8     Diploma  Los Angeles   39000\n"
     ]
    }
   ],
   "source": [
    "print(df.head())"
   ]
  },
  {
   "cell_type": "markdown",
   "metadata": {},
   "source": [
    "# Processing Data"
   ]
  },
  {
   "cell_type": "code",
   "execution_count": null,
   "metadata": {},
   "outputs": [],
   "source": [
    "# convert categorical data to numerical data raiot 80/20\n",
    "from sklearn.preprocessing import LabelEncoder\n",
    "le = LabelEncoder() # one hot encoding\n",
    "df[\"Degree Type\"] = le.fit_transform(df[\"Degree Type\"])\n",
    "df[\"City\"] = le.fit_transform(df[\"City\"])\n",
    "print(df.head())"
   ]
  }
 ],
 "metadata": {
  "kernelspec": {
   "display_name": "env",
   "language": "python",
   "name": "python3"
  },
  "language_info": {
   "codemirror_mode": {
    "name": "ipython",
    "version": 3
   },
   "file_extension": ".py",
   "mimetype": "text/x-python",
   "name": "python",
   "nbconvert_exporter": "python",
   "pygments_lexer": "ipython3",
   "version": "3.9.6"
  },
  "orig_nbformat": 4
 },
 "nbformat": 4,
 "nbformat_minor": 2
}
